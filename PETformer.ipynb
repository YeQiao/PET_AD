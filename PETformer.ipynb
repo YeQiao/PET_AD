{
 "cells": [
  {
   "cell_type": "code",
   "execution_count": 1,
   "metadata": {},
   "outputs": [],
   "source": [
    "import matplotlib.pyplot as plt\n",
    "import numpy as np\n",
    "import os\n",
    "import torch\n",
    "import torch.nn as nn\n",
    "import torch.nn.functional as F\n",
    "import torch.optim as optim\n",
    "import torch.utils.data\n",
    "import torchvision\n",
    "from torchvision import transforms as transforms\n",
    "from torchvision.transforms import ToTensor, Normalize, Resize, Compose\n",
    "from torch.optim.lr_scheduler import StepLR, ReduceLROnPlateau\n",
    "from torch.utils.data import DataLoader, Dataset\n",
    "import torch.optim as optim\n",
    "from torch.autograd import Variable\n",
    "import torchvision.models as models\n",
    "from torchsummary import summary\n",
    "from tqdm.notebook import tqdm\n",
    "from torch.cuda.amp import autocast as autocast\n",
    "from torch.cuda.amp import GradScaler as GradScaler\n",
    "from torch.utils.data import TensorDataset\n",
    "from torch.utils.data import DataLoader\n",
    "import time, datetime\n",
    "import logging\n",
    "import pickle\n",
    "import nibabel as nib\n",
    "from sklearn.metrics import accuracy_score\n",
    "from sklearn.model_selection import train_test_split\n",
    "from sklearn.metrics import precision_recall_fscore_support, recall_score, precision_score, f1_score\n",
    "from nibabel.testing import data_path\n",
    "from utils import *\n",
    "from CNNmodels import *"
   ]
  },
  {
   "cell_type": "code",
   "execution_count": 2,
   "metadata": {},
   "outputs": [],
   "source": [
    "def train_model(model, x_train, y_train, x_test, y_test, optimizer, scheduler ,epochs=120, batch_size=256,\n",
    "                lr=0.001, weight_decay=0, model_name=None, label_name=None):\n",
    "    if torch.cuda.is_available():\n",
    "        device = torch.device('cuda')\n",
    "    else:\n",
    "        device = torch.device('cpu')\n",
    "    \n",
    "    test_dataset = TensorDataset(x_test, y_test)\n",
    "    test_data_loader = DataLoader(test_dataset, batch_size=batch_size, shuffle=False)\n",
    "    \n",
    "    train_dataset = TensorDataset(x_train, y_train)\n",
    "    train_data_loader = DataLoader(train_dataset, batch_size=batch_size, shuffle=True)\n",
    "    \n",
    "    # loss function\n",
    "    loss_func_v = nn.CrossEntropyLoss().to(device)\n",
    "    loss_func = nn.CrossEntropyLoss().to(device)\n",
    "    # loss_func = CrossEntropyLabelSmooth(2, 0.1).to(device)\n",
    "    # optimizer\n",
    "    optimizer = optim.Adam(model.parameters(), lr=lr, weight_decay=weight_decay)\n",
    "#     optimizer = optim.RMSprop(model.parameters(), lr=lr, weight_decay=weight_decay, momentum=0.9, centered=False)\n",
    "    dataset = \"PET\"\n",
    "    # figure\n",
    "    train_a = list([])\n",
    "    test_a = list([])\n",
    "    # scheduler = optim.lr_scheduler.MultiStepLR(optimizer, milestones=[50, 100], gamma=0.5)\n",
    "    \n",
    "    file_complete = creating_path(\"pub\",\"Ye\",\"logs\",model_name, dataset, label_name,\n",
    "                                  file_name=model_name + \"_\" + label_name, extension='log')\n",
    "    logger_complete = create_logger(\"complete\", file_complete)\n",
    "    \n",
    "    best_acc = 0\n",
    "    save_model = False\n",
    "    save_params = True\n",
    "    # scaler = GradScaler()\n",
    "\n",
    "    # training loop\n",
    "    for epoch in range(epochs):\n",
    "        model.train()\n",
    "        model.to(device)\n",
    "        start = time.time()\n",
    "        \n",
    "        train_loss = 0\n",
    "        train_correct = 0\n",
    "        total = 0\n",
    "        for data, target in train_data_loader:    \n",
    "            data, target = data.to(device), target.to(device)\n",
    "            optimizer.zero_grad()\n",
    "\n",
    "            # with autocast():\n",
    "            #     output = model(data)\n",
    "            #     loss = loss_func_v(output, target)\n",
    "            \n",
    "            # scaler.scale(loss).backward()\n",
    "            # scaler.step(optimizer)\n",
    "            # scaler.update()\n",
    "\n",
    "            output = model(data)\n",
    "            loss = loss_func(output, target)\n",
    "            loss.backward()\n",
    "            optimizer.step()\n",
    "            \n",
    "            prediction = torch.max(output, 1)\n",
    "            train_loss += loss.item()\n",
    "            total += target.size(0)\n",
    "            train_correct += np.sum(prediction[1].cpu().numpy() == target.cpu().numpy())\n",
    "            \n",
    "        # scheduler.step()\n",
    "        train_accuracy = train_correct / total\n",
    "        train_a.append(train_accuracy)\n",
    "        end = time.time()\n",
    "        \n",
    "\n",
    "        \n",
    "        # test\n",
    "        model.eval()\n",
    "        test_loss = 0\n",
    "        test_correct = 0\n",
    "        test_total = 0\n",
    "        prediction_result = []\n",
    "        target_result = []\n",
    "        \n",
    "        with torch.no_grad():\n",
    "            for batch_num, (data, target) in enumerate(test_data_loader):\n",
    "                data = data.to(device)\n",
    "                target = target.to(device)\n",
    "                output = model(data)\n",
    "                loss = loss_func_v(output, target)\n",
    "                test_loss += loss.item()\n",
    "                prediction = torch.max(output, 1)\n",
    "                test_total += target.size(0)\n",
    "                test_correct += np.sum(prediction[1].cpu().numpy() == target.cpu().numpy())\n",
    "                prediction_result.append(prediction[1].cpu().numpy())\n",
    "                target_result.append(target.cpu().numpy())\n",
    "        test_loss_ava = test_loss / test_total      \n",
    "        test_accuracy = test_correct / test_total\n",
    "        test_a.append(test_correct / test_total)\n",
    "        print('Loss at epoch %d : %f, train_acc: %f, test_acc: %f, running time: %ds'% (epoch+1, train_loss, train_accuracy, test_accuracy, end-start))\n",
    "        \n",
    "\n",
    "        scheduler.step(test_loss_ava)\n",
    "        # scheduler.step()\n",
    "    \n",
    "    \n",
    "        if test_accuracy > best_acc:\n",
    "            if save_model is True:\n",
    "                print(\"=== The model is saved with accuracy: {}\".format(test_accuracy))\n",
    "                model_save(model, test_accuracy, model_name=model_name, datasets=dataset)\n",
    "                best_acc = test_accuracy\n",
    "            if save_params is True:\n",
    "                print(\"=== The model parameters is saved with accuracy: {}\".format(test_accuracy))\n",
    "                params_save(model, epoch, optimizer, train_accuracy,\n",
    "                            test_accuracy, model_name=model_name, datasets=dataset)\n",
    "                best_acc = test_accuracy\n",
    "    \n",
    "\n",
    "        # rec = recall_score(target_result, prediction_result, average='micro')\n",
    "        # Prec = precision_score(target_result, prediction_result, average='micro')\n",
    "        # F1 = f1_score(target_result, prediction_result, average='weighted') \n",
    "    \n",
    "        # msg = ('Epoch: [{0}]\\t'\n",
    "        #        'LR:[{1}]\\t'\n",
    "        #        'train_acc:{2}\\t'\n",
    "        #        'test_acc:{3}\\t'\n",
    "        #        'precision_score:{4}\\t'\n",
    "        #        'recall_score:{5}\\t'\n",
    "        #        'f1_score:{6}\\t'\n",
    "        #        )\n",
    "        # logger_complete.info(msg.format(epoch+1, lr, train_accuracy, test_accuracy, Prec, rec, F1))\n",
    "\n",
    "        # closer_logger(logger_complete)\n",
    "    \n",
    "    return train_a, test_a"
   ]
  },
  {
   "cell_type": "code",
   "execution_count": 3,
   "metadata": {},
   "outputs": [],
   "source": [
    "class MyNet1(nn.Module):   \n",
    "    def __init__(self):\n",
    "        super(MyNet1, self).__init__()\n",
    "\n",
    "        self.cnn_layers = nn.Sequential(\n",
    "            \n",
    "            # Defining a 3D convolution layer\n",
    "            nn.Conv3d(1, 8, kernel_size=3, stride=2, padding=1),\n",
    "            # nn.BatchNorm3d(8),\n",
    "            # nn.ReLU(),\n",
    "            nn.AvgPool3d(2),\n",
    "\n",
    "            # # Defining second 3D convolution layer\n",
    "            # nn.Conv3d(8, 16, kernel_size=3, stride=1, padding=1),\n",
    "            # nn.BatchNorm3d(16),\n",
    "            # nn.ReLU(inplace=True),\n",
    "            # nn.AvgPool3d(kernel_size=2),\n",
    "            # # nn.AvgPool3d(kernel_size=2),\n",
    "\n",
    "            # nn.Conv3d(16, 32, kernel_size=3, stride=1, padding=1),\n",
    "            # nn.BatchNorm3d(32),\n",
    "            # nn.ReLU(inplace=True),\n",
    "            # nn.AvgPool3d(kernel_size=2),\n",
    "        )\n",
    "\n",
    "        self.linear_layers = nn.Sequential(\n",
    "            # nn.Linear(344064, 512)\n",
    "            nn.Linear(172032, 512)\n",
    "        )\n",
    "\n",
    "    # Defining the forward pass    \n",
    "    def forward(self, x):\n",
    "        x = self.cnn_layers(x)\n",
    "        x = x.view(x.size(0), -1)\n",
    "        x = self.linear_layers(x)\n",
    "        return x"
   ]
  },
  {
   "cell_type": "code",
   "execution_count": 4,
   "metadata": {},
   "outputs": [],
   "source": [
    "class PositionalEncoding(nn.Module):\n",
    "    \"\"\"\n",
    "    https://pytorch.org/tutorials/beginner/transformer_tutorial.html\n",
    "    \"\"\"\n",
    "\n",
    "    def __init__(self, d_model, vocab_size=5000, dropout=0.1):\n",
    "        super().__init__()\n",
    "        self.dropout = nn.Dropout(p=dropout)\n",
    "\n",
    "        pe = torch.zeros(vocab_size, d_model)\n",
    "        position = torch.arange(0, vocab_size, dtype=torch.float).unsqueeze(1)\n",
    "        div_term = torch.exp(\n",
    "            torch.arange(0, d_model, 2).float()\n",
    "            * (-math.log(10000.0) / d_model)\n",
    "        )\n",
    "        pe[:, 0::2] = torch.sin(position * div_term)\n",
    "        pe[:, 1::2] = torch.cos(position * div_term)\n",
    "        pe = pe.unsqueeze(0)\n",
    "        self.register_buffer(\"pe\", pe)\n",
    "\n",
    "    def forward(self, x):\n",
    "        x = x + self.pe[:, : x.size(1), :]\n",
    "        return self.dropout(x)"
   ]
  },
  {
   "cell_type": "code",
   "execution_count": 5,
   "metadata": {},
   "outputs": [],
   "source": [
    "class PETformer(nn.Module):\n",
    "    def __init__(\n",
    "        self,\n",
    "        num_classes=3,\n",
    "        embeddeing_size = 512,\n",
    "        nhead=8,\n",
    "        dim_feedforward=2048,\n",
    "        num_layers=6,\n",
    "        dropout=0.1,\n",
    "        activation=\"relu\",\n",
    "        classifier_dropout=0.1,\n",
    "    ):\n",
    "\n",
    "        super().__init__()\n",
    "        self.d_model = embeddeing_size\n",
    "        self.rame_size = 128*128*85\n",
    "        self.frame_1 = MyNet1()\n",
    "        self.frame_2 = MyNet1()\n",
    "        self.frame_3 = MyNet1()\n",
    "        self.frame_4 = MyNet1()\n",
    "        self.frame_5 = MyNet1()\n",
    "        self.frame_6 = MyNet1()\n",
    "\n",
    "        # vocab_size, d_model = embeddings.size()\n",
    "        assert self.d_model % nhead == 0, \"nheads must divide evenly into d_model\"\n",
    "\n",
    "        # self.emb = nn.Embedding.from_pretrained(embeddings, freeze=False)\n",
    "\n",
    "        self.pos_encoder = PositionalEncoding(\n",
    "            d_model=self.d_model,\n",
    "            dropout=dropout,\n",
    "            # vocab_size=vocab_size,\n",
    "        )\n",
    "\n",
    "        encoder_layer = nn.TransformerEncoderLayer(\n",
    "            d_model=self.d_model,\n",
    "            nhead=nhead,\n",
    "            dim_feedforward=dim_feedforward,\n",
    "            dropout=dropout,\n",
    "            batch_first=True,\n",
    "        )\n",
    "        self.transformer_encoder = nn.TransformerEncoder(\n",
    "            encoder_layer,\n",
    "            num_layers=num_layers,\n",
    "        )\n",
    "        self.classifier = nn.Linear(self.d_model, num_classes)\n",
    "\n",
    "    def forward(self, x):\n",
    "        x1 = x[:,0:1,:,:,:]\n",
    "        x2 = x[:,1:2,:,:,:]\n",
    "        x3 = x[:,2:3,:,:,:]\n",
    "        x4 = x[:,3:4,:,:,:]\n",
    "        x5 = x[:,4:5,:,:,:]\n",
    "        x6 = x[:,5:6,:,:,:]\n",
    "\n",
    "        x1 = torch.unsqueeze(self.frame_1(x1),1)\n",
    "        x2 = torch.unsqueeze(self.frame_2(x2),1)\n",
    "        x3 = torch.unsqueeze(self.frame_3(x3),1)\n",
    "        x4 = torch.unsqueeze(self.frame_4(x4),1)\n",
    "        x5 = torch.unsqueeze(self.frame_5(x5),1)\n",
    "        x6 = torch.unsqueeze(self.frame_6(x6),1)\n",
    "\n",
    "        # print(x1.shape)\n",
    "        x = torch.cat((x1,x2,x3,x4,x5,x6), dim = 1)\n",
    "        # print(x.shape)\n",
    "\n",
    "        # x = self.emb(x) * math.sqrt(self.d_model)\n",
    "        x = self.pos_encoder(x)\n",
    "        x = self.transformer_encoder(x)\n",
    "        x = x.mean(dim=1)\n",
    "        x = self.classifier(x)\n",
    "\n",
    "        return x\n"
   ]
  },
  {
   "cell_type": "code",
   "execution_count": 6,
   "metadata": {},
   "outputs": [],
   "source": [
    "TRAIN_DATA_PATH = \"1-dataset\"\n",
    "data_1 = np.array([])\n",
    "data_2 = np.array([])\n",
    "data_3 = np.array([])\n",
    "i = 0\n",
    "for filename in os.listdir(TRAIN_DATA_PATH):\n",
    "    f = os.path.join(TRAIN_DATA_PATH, filename)\n",
    "    data_tmp = []\n",
    "    for filename_sub in os.listdir(f):\n",
    "        f1 = os.path.join(f, filename_sub)\n",
    "        frame_tmp = []\n",
    "        for filename_sub_p in os.listdir(f1):\n",
    "            f2 = os.path.join(f1, filename_sub_p)\n",
    "            img = nib.load(f2)\n",
    "            data = img.get_fdata()\n",
    "            # print(data)\n",
    "            data = data.reshape(data.shape[0],data.shape[1],data.shape[2])\n",
    "            data = data[:,:,0:85]\n",
    "            frame_tmp.append(data)\n",
    "            # print(f2)\n",
    "    # print(data_tmp)\n",
    "        frame_tmp = np.array(frame_tmp)\n",
    "        # print(frame_tmp.shape)\n",
    "        data_tmp.append(frame_tmp)\n",
    "    data_tmp = np.array(data_tmp)\n",
    "    if i == 0:\n",
    "        data_1 = data_tmp\n",
    "    if i == 1:\n",
    "        data_2 = data_tmp\n",
    "    if i == 2:\n",
    "        data_3 = data_tmp\n",
    "    i+=1\n",
    "    # checking if it is a file\n",
    "    # print(f)\n",
    "\n"
   ]
  },
  {
   "cell_type": "code",
   "execution_count": 7,
   "metadata": {},
   "outputs": [
    {
     "data": {
      "text/plain": [
       "(47, 6, 128, 128, 85)"
      ]
     },
     "execution_count": 7,
     "metadata": {},
     "output_type": "execute_result"
    }
   ],
   "source": [
    "data_3.shape"
   ]
  },
  {
   "cell_type": "code",
   "execution_count": 8,
   "metadata": {},
   "outputs": [],
   "source": [
    "# create label\n",
    "label1 = np.full((data_1.shape[0]), 0)\n",
    "label2 = np.full((data_2.shape[0]), 1)\n",
    "label3 = np.full((data_3.shape[0]), 2)"
   ]
  },
  {
   "cell_type": "code",
   "execution_count": 9,
   "metadata": {},
   "outputs": [],
   "source": [
    "data = np.concatenate((data_1, data_2, data_3))\n",
    "# data = data.reshape(data.shape[0],data.shape[1],data.shape[2],data.shape[3])\n",
    "label = np.concatenate((label1, label2, label3))"
   ]
  },
  {
   "cell_type": "code",
   "execution_count": 10,
   "metadata": {},
   "outputs": [
    {
     "data": {
      "text/plain": [
       "(126, 6, 128, 128, 85)"
      ]
     },
     "execution_count": 10,
     "metadata": {},
     "output_type": "execute_result"
    }
   ],
   "source": [
    "data.shape"
   ]
  },
  {
   "cell_type": "code",
   "execution_count": 11,
   "metadata": {},
   "outputs": [
    {
     "data": {
      "text/plain": [
       "(126,)"
      ]
     },
     "execution_count": 11,
     "metadata": {},
     "output_type": "execute_result"
    }
   ],
   "source": [
    "label.shape"
   ]
  },
  {
   "cell_type": "code",
   "execution_count": 12,
   "metadata": {},
   "outputs": [],
   "source": [
    "# train test split\n",
    "x_train, x_test, y_train, y_test = train_test_split(data, label, test_size=0.2, random_state=1)\n",
    "x_train.shape\n",
    "# x_train = x_train.reshape(x_train.shape[0], 1, x_train.shape[1], x_train.shape[2], x_train.shape[3])\n",
    "# x_test = x_test.reshape(x_test.shape[0], 1, x_test.shape[1], x_test.shape[2], x_test.shape[3])\n",
    "\n",
    "# x_min = x_train.min(axis = (1,2,3),keepdims=True)\n",
    "# x_max = x_train.max(axis = (1,2,3),keepdims=True)\n",
    "# x_train = 2*(x_train-x_min)/(x_max-x_min)-1\n",
    "\n",
    "# x_min = x_test.min(axis = (1,2,3),keepdims=True)\n",
    "# x_max = x_test.max(axis = (1,2,3),keepdims=True)\n",
    "# x_test = 2*(x_test-x_min)/(x_max-x_min)-1\n",
    "\n",
    "x_train = torch.from_numpy(x_train).float()\n",
    "y_train = torch.from_numpy(y_train).long()\n",
    "x_test = torch.from_numpy(x_test).float()\n",
    "y_test = torch.from_numpy(y_test).long()"
   ]
  },
  {
   "cell_type": "code",
   "execution_count": 13,
   "metadata": {},
   "outputs": [],
   "source": [
    "# hyper parameters\n",
    "CLASSES = 3\n",
    "batch_size = 4\n",
    "max_epochs = 100\n",
    "lr = 0.01\n",
    "momentum = 0.9\n",
    "weight_decay = 0\n",
    "label_smooth = 0.1\n",
    "device = 'cuda' if torch.cuda.is_available() else 'cpu'\n",
    "datasets = 'PET'\n",
    "# model_name = 'Mobilenetv3_small_b_pre_memsist_test'\n",
    "# model_name = 'MobileNetV2_test_2'\n",
    "# model_name = 'mynet_test_1'\n",
    "# model_name = 'resnet18_test_1'\n",
    "model_name = 'PETformer_4D'"
   ]
  },
  {
   "cell_type": "code",
   "execution_count": 14,
   "metadata": {},
   "outputs": [],
   "source": [
    "# test_dataset = TensorDataset(x_test, y_test)\n",
    "# test_data_loader = DataLoader(test_dataset, batch_size=batch_size, shuffle=False)\n",
    "\n",
    "# train_dataset = TensorDataset(x_train, y_train)\n",
    "# train_data_loader = DataLoader(train_dataset, batch_size=batch_size, shuffle=True)\n",
    "\n",
    "# train_loader_len = len(train_data_loader)\n",
    "# val_loader_len = len(test_data_loader)"
   ]
  },
  {
   "cell_type": "code",
   "execution_count": 15,
   "metadata": {},
   "outputs": [],
   "source": [
    "# model = generate_model(18, n_input_channels = 1, n_classes = 3, conv1_t_size=7)\n",
    "\n",
    "model = PETformer(\n",
    "    nhead=4,  # the number of heads in the multiheadattention models\n",
    "    dim_feedforward=2048,  # the dimension of the feedforward network model in nn.TransformerEncoder\n",
    "    num_layers=3,\n",
    ").to(device)\n",
    "\n",
    "# model = MyNet1()\n",
    "# summary(model.to(device), (6,128,128,85))"
   ]
  },
  {
   "cell_type": "code",
   "execution_count": 16,
   "metadata": {},
   "outputs": [],
   "source": [
    "optimizer = optim.Adam(model.parameters(), lr=lr, weight_decay=weight_decay)\n",
    "# optimizer = optim.SGD(model.parameters(), lr=lr, momentum=0.9, weight_decay=weight_decay)\n",
    "# scheduler = torch.optim.lr_scheduler.LambdaLR(optimizer, \n",
    "#                                               lambda step : (1.0-step/max_epochs), last_epoch=-1)\n",
    "# scheduler = CosineWarmupLR(optimizer=optimizer_ft, epochs=max_epochs, \n",
    "#                               iter_in_one_epoch=loaders_len['train'], lr_min=0, warmup_epochs=5)\n",
    "scheduler = ReduceLROnPlateau(optimizer, 'min')\n",
    "\n",
    "criterion = nn.CrossEntropyLoss()\n",
    "criterion = criterion.to(device)\n",
    "criterion_smooth = CrossEntropyLabelSmooth(CLASSES, label_smooth)\n",
    "criterion_smooth = criterion_smooth.to(device)\n",
    "# loaders_len = {'train': train_loader_len, 'val' : val_loader_len}"
   ]
  },
  {
   "cell_type": "code",
   "execution_count": 17,
   "metadata": {},
   "outputs": [],
   "source": [
    "# train_1_a, train_5_a, test_1_a, test_5_a, train_path_name, test_path_name = fit(model, train_data_loader, \n",
    "#         test_data_loader, datasets, optimizer, scheduler, max_epochs, criterion, criterion,\n",
    "#         print_freq=10, save_model=False, save_params=True, best_acc=0, model_name = model_name)"
   ]
  },
  {
   "cell_type": "code",
   "execution_count": 18,
   "metadata": {},
   "outputs": [
    {
     "name": "stdout",
     "output_type": "stream",
     "text": [
      "Loss at epoch 1 : 64.087443, train_acc: 0.310000, test_acc: 0.538462, running time: 11s\n",
      "=== The model parameters is saved with accuracy: 0.5384615384615384\n",
      "Loss at epoch 2 : 37.910649, train_acc: 0.290000, test_acc: 0.038462, running time: 3s\n",
      "Loss at epoch 3 : 33.245341, train_acc: 0.350000, test_acc: 0.038462, running time: 3s\n",
      "Loss at epoch 4 : 37.586117, train_acc: 0.290000, test_acc: 0.538462, running time: 3s\n",
      "Loss at epoch 5 : 30.331068, train_acc: 0.450000, test_acc: 0.538462, running time: 3s\n",
      "Loss at epoch 6 : 29.573760, train_acc: 0.330000, test_acc: 0.538462, running time: 3s\n",
      "Loss at epoch 7 : 29.180096, train_acc: 0.320000, test_acc: 0.538462, running time: 3s\n",
      "Loss at epoch 8 : 27.989821, train_acc: 0.240000, test_acc: 0.038462, running time: 3s\n",
      "Loss at epoch 9 : 28.090051, train_acc: 0.270000, test_acc: 0.423077, running time: 3s\n",
      "Loss at epoch 10 : 27.914564, train_acc: 0.360000, test_acc: 0.423077, running time: 3s\n",
      "Loss at epoch 11 : 28.272331, train_acc: 0.330000, test_acc: 0.538462, running time: 3s\n",
      "Loss at epoch 12 : 28.299116, train_acc: 0.290000, test_acc: 0.423077, running time: 3s\n",
      "Loss at epoch 13 : 27.652019, train_acc: 0.360000, test_acc: 0.423077, running time: 3s\n",
      "Loss at epoch 14 : 27.605893, train_acc: 0.330000, test_acc: 0.423077, running time: 3s\n",
      "Loss at epoch 15 : 27.766679, train_acc: 0.360000, test_acc: 0.423077, running time: 3s\n",
      "Loss at epoch 16 : 28.176318, train_acc: 0.360000, test_acc: 0.423077, running time: 3s\n",
      "Loss at epoch 17 : 28.433895, train_acc: 0.310000, test_acc: 0.423077, running time: 3s\n",
      "Loss at epoch 18 : 29.177068, train_acc: 0.240000, test_acc: 0.538462, running time: 3s\n",
      "Loss at epoch 19 : 27.978904, train_acc: 0.410000, test_acc: 0.423077, running time: 3s\n",
      "Loss at epoch 20 : 27.807529, train_acc: 0.330000, test_acc: 0.423077, running time: 3s\n",
      "Loss at epoch 21 : 27.811911, train_acc: 0.350000, test_acc: 0.423077, running time: 3s\n",
      "Loss at epoch 22 : 28.272023, train_acc: 0.330000, test_acc: 0.423077, running time: 3s\n",
      "Loss at epoch 23 : 27.823246, train_acc: 0.330000, test_acc: 0.538462, running time: 3s\n",
      "Loss at epoch 24 : 28.296992, train_acc: 0.310000, test_acc: 0.423077, running time: 3s\n",
      "Loss at epoch 25 : 28.137358, train_acc: 0.330000, test_acc: 0.423077, running time: 3s\n",
      "Loss at epoch 26 : 27.714999, train_acc: 0.330000, test_acc: 0.423077, running time: 3s\n",
      "Loss at epoch 27 : 27.406510, train_acc: 0.360000, test_acc: 0.423077, running time: 3s\n"
     ]
    }
   ],
   "source": [
    "train_a, test_a = train_model(model, x_train, y_train, x_test, y_test, optimizer, scheduler, batch_size=batch_size, lr=lr, model_name= model_name, label_name=\"PET\")"
   ]
  },
  {
   "cell_type": "code",
   "execution_count": 18,
   "metadata": {},
   "outputs": [
    {
     "data": {
      "image/png": "[encoded data removed]",
      "text/plain": [
       "<Figure size 432x288 with 1 Axes>"
      ]
     },
     "metadata": {
      "needs_background": "light"
     },
     "output_type": "display_data"
    },
    {
     "name": "stdout",
     "output_type": "stream",
     "text": [
      "best validation result: 0.636364 at epoch 64\n"
     ]
    }
   ],
   "source": [
    "# figure\n",
    "plt.plot(test_a,'r.-.', label = \"Validation ACC\")\n",
    "plt.plot(train_a,'g.-.', label = \"Training ACC\")\n",
    "plt.xlabel('epoch')\n",
    "plt.ylabel('accuracy')\n",
    "plt.legend()\n",
    "plt.show()\n",
    "print('best validation result: %f at epoch %d'% (np.amax(test_a), np.argmax(test_a)+1))"
   ]
  },
  {
   "cell_type": "code",
   "execution_count": 17,
   "metadata": {},
   "outputs": [
    {
     "data": {
      "image/png": "[encoded data removed]",
      "text/plain": [
       "<Figure size 432x288 with 1 Axes>"
      ]
     },
     "metadata": {
      "needs_background": "light"
     },
     "output_type": "display_data"
    },
    {
     "name": "stdout",
     "output_type": "stream",
     "text": [
      "best validation result: 0.477273 at epoch 1\n"
     ]
    }
   ],
   "source": [
    "# figure\n",
    "plt.plot(test_a,'r.-.', label = \"Validation ACC\")\n",
    "plt.plot(train_a,'g.-.', label = \"Training ACC\")\n",
    "plt.xlabel('epoch')\n",
    "plt.ylabel('accuracy')\n",
    "plt.legend()\n",
    "plt.show()\n",
    "print('best validation result: %f at epoch %d'% (np.amax(test_a), np.argmax(test_a)+1))"
   ]
  }
 ],
 "metadata": {
  "interpreter": {
   "hash": "b3ba2566441a7c06988d0923437866b63cedc61552a5af99d1f4fb67d367b25f"
  },
  "kernelspec": {
   "display_name": "Python 3.8.5 ('base')",
   "language": "python",
   "name": "python3"
  },
  "language_info": {
   "codemirror_mode": {
    "name": "ipython",
    "version": 3
   },
   "file_extension": ".py",
   "mimetype": "text/x-python",
   "name": "python",
   "nbconvert_exporter": "python",
   "pygments_lexer": "ipython3",
   "version": "3.8.5"
  },
  "orig_nbformat": 4
 },
 "nbformat": 4,
 "nbformat_minor": 2
}
